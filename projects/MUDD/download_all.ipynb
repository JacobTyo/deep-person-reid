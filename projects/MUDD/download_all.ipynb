{
 "cells": [
  {
   "cell_type": "code",
   "execution_count": 15,
   "id": "initial_id",
   "metadata": {
    "collapsed": true,
    "ExecuteTime": {
     "end_time": "2024-01-21T16:42:03.695161741Z",
     "start_time": "2024-01-21T16:42:03.677377158Z"
    }
   },
   "outputs": [],
   "source": [
    "# need to get all  images on perf out of s3, save them, then develop a mapping between the image name and the perf data\n",
    "import boto3\n",
    "import os\n",
    "import pandas as pd\n",
    "import shutil \n",
    "from tqdm.notebook import tqdm\n",
    "import hashlib"
   ]
  },
  {
   "cell_type": "code",
   "outputs": [],
   "source": [
    "# load in the object_id_to_image_id.csv file\n",
    "full_mapping = pd.read_csv('/home/jtyo/Repos/PersonalRepos/deep-person-reid/reid-data/performance/object_id_to_image_id.csv')\n",
    "# now for each image id, get the image from s3"
   ],
   "metadata": {
    "collapsed": false,
    "ExecuteTime": {
     "end_time": "2024-01-19T21:09:42.554292554Z",
     "start_time": "2024-01-19T21:09:42.259038086Z"
    }
   },
   "id": "c9d69d15880b666a",
   "execution_count": 4
  },
  {
   "cell_type": "code",
   "outputs": [
    {
     "data": {
      "text/plain": "            id  image_id                                            s3_path\n0            1         4  https://labeling-detected-objects-bucket.s3.am...\n1            2         3  https://labeling-detected-objects-bucket.s3.am...\n2            3         2  https://labeling-detected-objects-bucket.s3.am...\n3            4         4  https://labeling-detected-objects-bucket.s3.am...\n4            5         2  https://labeling-detected-objects-bucket.s3.am...\n...        ...       ...                                                ...\n250414  282507    152227                                                NaN\n250415  282508    152228                                                NaN\n250416  282509    152227                                                NaN\n250417  282510    152230                                                NaN\n250418  282511    152227                                                NaN\n\n[250419 rows x 3 columns]",
      "text/html": "<div>\n<style scoped>\n    .dataframe tbody tr th:only-of-type {\n        vertical-align: middle;\n    }\n\n    .dataframe tbody tr th {\n        vertical-align: top;\n    }\n\n    .dataframe thead th {\n        text-align: right;\n    }\n</style>\n<table border=\"1\" class=\"dataframe\">\n  <thead>\n    <tr style=\"text-align: right;\">\n      <th></th>\n      <th>id</th>\n      <th>image_id</th>\n      <th>s3_path</th>\n    </tr>\n  </thead>\n  <tbody>\n    <tr>\n      <th>0</th>\n      <td>1</td>\n      <td>4</td>\n      <td>https://labeling-detected-objects-bucket.s3.am...</td>\n    </tr>\n    <tr>\n      <th>1</th>\n      <td>2</td>\n      <td>3</td>\n      <td>https://labeling-detected-objects-bucket.s3.am...</td>\n    </tr>\n    <tr>\n      <th>2</th>\n      <td>3</td>\n      <td>2</td>\n      <td>https://labeling-detected-objects-bucket.s3.am...</td>\n    </tr>\n    <tr>\n      <th>3</th>\n      <td>4</td>\n      <td>4</td>\n      <td>https://labeling-detected-objects-bucket.s3.am...</td>\n    </tr>\n    <tr>\n      <th>4</th>\n      <td>5</td>\n      <td>2</td>\n      <td>https://labeling-detected-objects-bucket.s3.am...</td>\n    </tr>\n    <tr>\n      <th>...</th>\n      <td>...</td>\n      <td>...</td>\n      <td>...</td>\n    </tr>\n    <tr>\n      <th>250414</th>\n      <td>282507</td>\n      <td>152227</td>\n      <td>NaN</td>\n    </tr>\n    <tr>\n      <th>250415</th>\n      <td>282508</td>\n      <td>152228</td>\n      <td>NaN</td>\n    </tr>\n    <tr>\n      <th>250416</th>\n      <td>282509</td>\n      <td>152227</td>\n      <td>NaN</td>\n    </tr>\n    <tr>\n      <th>250417</th>\n      <td>282510</td>\n      <td>152230</td>\n      <td>NaN</td>\n    </tr>\n    <tr>\n      <th>250418</th>\n      <td>282511</td>\n      <td>152227</td>\n      <td>NaN</td>\n    </tr>\n  </tbody>\n</table>\n<p>250419 rows × 3 columns</p>\n</div>"
     },
     "execution_count": 5,
     "metadata": {},
     "output_type": "execute_result"
    }
   ],
   "source": [
    "full_mapping"
   ],
   "metadata": {
    "collapsed": false,
    "ExecuteTime": {
     "end_time": "2024-01-19T21:09:43.456380431Z",
     "start_time": "2024-01-19T21:09:43.387014117Z"
    }
   },
   "id": "3e8f7330ef8ab11c",
   "execution_count": 5
  },
  {
   "cell_type": "code",
   "outputs": [
    {
     "data": {
      "text/plain": "  0%|          | 0/250419 [00:00<?, ?it/s]",
      "application/vnd.jupyter.widget-view+json": {
       "version_major": 2,
       "version_minor": 0,
       "model_id": "6ba24ab7a9ab4dcbaa2472120ff470dc"
      }
     },
     "metadata": {},
     "output_type": "display_data"
    }
   ],
   "source": [
    "s3 = boto3.client(\"s3\")\n",
    "original_imgs_dir = '/home/jtyo/tmp/mudd_originals'\n",
    "errors = 0\n",
    "for s3_url in tqdm(full_mapping['s3_path']):\n",
    "    try:\n",
    "        key = s3_url.split('/')[-1]\n",
    "        if os.path.exists(os.path.join(original_imgs_dir, key)):\n",
    "            continue\n",
    "        response = s3.get_object(Bucket='labeling-detected-objects-bucket', Key=key)['Body']\n",
    "        with open(os.path.join(original_imgs_dir, key), 'wb') as out_file:\n",
    "                shutil.copyfileobj(response, out_file)\n",
    "    except Exception as e:\n",
    "        errors += 1"
   ],
   "metadata": {
    "collapsed": false,
    "ExecuteTime": {
     "end_time": "2024-01-20T22:38:59.890697891Z",
     "start_time": "2024-01-20T14:13:42.681341313Z"
    }
   },
   "id": "ac95540da9bc7ecc",
   "execution_count": 10
  },
  {
   "cell_type": "code",
   "outputs": [
    {
     "name": "stdout",
     "output_type": "stream",
     "text": [
      "errors 2424\n"
     ]
    }
   ],
   "source": [
    "print('errors', errors)"
   ],
   "metadata": {
    "collapsed": false,
    "ExecuteTime": {
     "end_time": "2024-01-20T22:38:59.918731487Z",
     "start_time": "2024-01-20T22:38:59.894328586Z"
    }
   },
   "id": "dc1b3c951388e601",
   "execution_count": 11
  },
  {
   "cell_type": "code",
   "outputs": [],
   "source": [
    "mudd_processed_base_path = '/home/jtyo/Repos/PersonalRepos/deep-person-reid/reid-data/performance'\n",
    "final_folders = [\n",
    "    'bounding_box_test', \n",
    "    'bounding_box_train',\n",
    "    'gallery_all',\n",
    "    'gallery_mud',\n",
    "    'gallery_no_mud',\n",
    "    'query',\n",
    "    'query_all',\n",
    "    'query_mud',\n",
    "    'query_no_mud'\n",
    "]"
   ],
   "metadata": {
    "collapsed": false,
    "ExecuteTime": {
     "end_time": "2024-01-20T22:38:59.919457178Z",
     "start_time": "2024-01-20T22:38:59.898924543Z"
    }
   },
   "id": "bbf899d504967f2f",
   "execution_count": 12
  },
  {
   "cell_type": "code",
   "outputs": [],
   "source": [
    "def get_image_checksum(img_path):\n",
    "    with open(img_path, 'rb') as f:\n",
    "        return hashlib.md5(f.read()).hexdigest()"
   ],
   "metadata": {
    "collapsed": false,
    "ExecuteTime": {
     "end_time": "2024-01-21T16:42:14.148284081Z",
     "start_time": "2024-01-21T16:42:14.107581238Z"
    }
   },
   "id": "7c805c6267879878",
   "execution_count": 16
  },
  {
   "cell_type": "code",
   "outputs": [
    {
     "data": {
      "text/plain": "  0%|          | 0/247995 [00:00<?, ?it/s]",
      "application/vnd.jupyter.widget-view+json": {
       "version_major": 2,
       "version_minor": 0,
       "model_id": "9466b58307fd4e8a928f5637cfb48224"
      }
     },
     "metadata": {},
     "output_type": "display_data"
    }
   ],
   "source": [
    "# Now to make things more efficient and quick, lets get a checksum of all images, store in a dict, and then we can easily check if a mudd image exists in the original set\n",
    "# for every image in original_imgs_dir, compute the checksum and save in memory\n",
    "original_imgs_checksums = {}\n",
    "for img in tqdm(os.listdir(original_imgs_dir)):\n",
    "    original_imgs_checksums[get_image_checksum(os.path.join(original_imgs_dir, img))] = img"
   ],
   "metadata": {
    "collapsed": false,
    "ExecuteTime": {
     "end_time": "2024-01-21T16:43:27.981947023Z",
     "start_time": "2024-01-21T16:42:15.028271472Z"
    }
   },
   "id": "b21d333d02ce3df4",
   "execution_count": 17
  },
  {
   "cell_type": "code",
   "outputs": [
    {
     "data": {
      "text/plain": "  0%|          | 0/9 [00:00<?, ?it/s]",
      "application/vnd.jupyter.widget-view+json": {
       "version_major": 2,
       "version_minor": 0,
       "model_id": "3bcb906d3639458a8a8b25fa0c997663"
      }
     },
     "metadata": {},
     "output_type": "display_data"
    },
    {
     "name": "stdout",
     "output_type": "stream",
     "text": [
      "Found 5385 images in the original set\n",
      "Missed 0 images in the original set\n"
     ]
    }
   ],
   "source": [
    "# now for each image in the mudd_processed_base_path, check if it exists in the original_imgs_checksums\n",
    "# then we will save a json file that maps the mudd_processed image name to the original image name\n",
    "mudd_processed_to_original = {}\n",
    "missed_images = {}\n",
    "for folder in tqdm(final_folders):\n",
    "    for img in os.listdir(os.path.join(mudd_processed_base_path, folder)):\n",
    "        img_checksums = get_image_checksum(os.path.join(mudd_processed_base_path, folder, img))\n",
    "        if img_checksums in original_imgs_checksums:\n",
    "            mudd_processed_to_original[os.path.join(folder, img)] = original_imgs_checksums[img_checksums]\n",
    "        else:\n",
    "            print(f'Could not find {img} in original images')\n",
    "            missed_images[img] = img_checksums\n",
    "\n",
    "print(f'Found {len(mudd_processed_to_original)} images in the original set')\n",
    "print(f'Missed {len(missed_images)} images in the original set')"
   ],
   "metadata": {
    "collapsed": false,
    "ExecuteTime": {
     "end_time": "2024-01-21T16:43:29.631831144Z",
     "start_time": "2024-01-21T16:43:27.991386635Z"
    }
   },
   "id": "aebba08bdf0640ed",
   "execution_count": 18
  },
  {
   "cell_type": "code",
   "outputs": [],
   "source": [
    "# now save the mapping to a json file\n",
    "import json\n",
    "with open(os.path.join(mudd_processed_base_path, 'mudd_processed_to_original.json'), 'w') as f:\n",
    "    json.dump(mudd_processed_to_original, f)"
   ],
   "metadata": {
    "collapsed": false,
    "ExecuteTime": {
     "end_time": "2024-01-22T16:27:19.041498614Z",
     "start_time": "2024-01-22T16:27:19.026752210Z"
    }
   },
   "id": "2067a49ff4075524",
   "execution_count": 22
  },
  {
   "cell_type": "code",
   "outputs": [
    {
     "name": "stdout",
     "output_type": "stream",
     "text": [
      "bounding_box_test/41_91905_1528.png 91905.png\n",
      "bounding_box_test/25_162073_925.png 162073.png\n",
      "bounding_box_test/36_266159_3830.png 266159.png\n",
      "bounding_box_test/41_87791_1438.png 87791.png\n",
      "bounding_box_test/43_178306_1048.png 178306.png\n",
      "bounding_box_test/36_266102_3826.png 266102.png\n",
      "bounding_box_test/36_265909_3806.png 265909.png\n",
      "bounding_box_test/38_35697_2224.png 35697.png\n",
      "bounding_box_test/39_177197_1036.png 177197.png\n",
      "bounding_box_test/39_176626_1032.png 176626.png\n",
      "bounding_box_test/43_3748_2192.png 3748.png\n",
      "bounding_box_test/40_93369_1543.png 93369.png\n"
     ]
    }
   ],
   "source": [
    "for i, (k, v) in enumerate(mudd_processed_to_original.items()):\n",
    "    print(k, v)\n",
    "    if i > 10:\n",
    "        break"
   ],
   "metadata": {
    "collapsed": false,
    "ExecuteTime": {
     "end_time": "2024-01-21T16:46:30.912326180Z",
     "start_time": "2024-01-21T16:46:30.870944703Z"
    }
   },
   "id": "50ce4b76c1daacbd",
   "execution_count": 21
  },
  {
   "cell_type": "code",
   "outputs": [
    {
     "name": "stdout",
     "output_type": "stream",
     "text": [
      "bounding_box_train/28749223_131645_845.png 131645.png\n",
      "bounding_box_train/28749223_131666_850.png 131666.png\n",
      "bounding_box_train/28749223_131626_842.png 131626.png\n",
      "bounding_box_train/28749223_27215_29.png 27215.png\n",
      "bounding_box_train/28749223_26822_26.png 26822.png\n",
      "bounding_box_train/28749223_133564_852.png 133564.png\n",
      "bounding_box_train/28749223_131649_849.png 131649.png\n",
      "bounding_box_train/28749223_26819_25.png 26819.png\n",
      "bounding_box_train/28749223_131655_843.png 131655.png\n",
      "bounding_box_train/28749223_131640_848.png 131640.png\n",
      "bounding_box_train/28749223_131646_847.png 131646.png\n",
      "bounding_box_train/28749223_1745_2210.png 1745.png\n",
      "bounding_box_train/28749223_131664_846.png 131664.png\n",
      "bounding_box_train/28749223_131647_844.png 131647.png\n"
     ]
    }
   ],
   "source": [
    "# see if the text 28749223 is anywhere in mudd_processed_to_original \n",
    "for k, v in mudd_processed_to_original.items():\n",
    "    if '28749223' in k or '28749223' in v:\n",
    "        print(k, v)"
   ],
   "metadata": {
    "collapsed": false,
    "ExecuteTime": {
     "end_time": "2024-01-22T16:28:49.075803422Z",
     "start_time": "2024-01-22T16:28:49.070310433Z"
    }
   },
   "id": "433017740b587163",
   "execution_count": 23
  },
  {
   "cell_type": "code",
   "outputs": [
    {
     "name": "stdout",
     "output_type": "stream",
     "text": [
      "bounding_box_train/87_42469_2258.png 37818.png\n"
     ]
    }
   ],
   "source": [
    "# now make sure what I'm using as the detected object id and the object_id always lign up\n",
    "for k, v in mudd_processed_to_original.items():\n",
    "    if k.split('_')[-2] != v.split('.')[0]:\n",
    "        print(k, v)"
   ],
   "metadata": {
    "collapsed": false,
    "ExecuteTime": {
     "end_time": "2024-01-22T17:44:27.094174594Z",
     "start_time": "2024-01-22T17:44:27.012508265Z"
    }
   },
   "id": "baec5b77c8208912",
   "execution_count": 24
  },
  {
   "cell_type": "code",
   "outputs": [],
   "source": [
    "# we need to do some analysis. Basically, we want to know: \n",
    "# Instead of looking at the person_id statistics, we wanna know:\n",
    "# How many \"photos\" are there? \n",
    "# How many \"people\" are there in each photo?"
   ],
   "metadata": {
    "collapsed": false,
    "ExecuteTime": {
     "end_time": "2024-01-22T18:11:50.658660094Z",
     "start_time": "2024-01-22T18:11:50.656454143Z"
    }
   },
   "id": "b24e1d4dd8db387",
   "execution_count": 26
  },
  {
   "cell_type": "code",
   "outputs": [
    {
     "data": {
      "text/plain": "            id  image_id                                            s3_path\n0            1         4  https://labeling-detected-objects-bucket.s3.am...\n1            2         3  https://labeling-detected-objects-bucket.s3.am...\n2            3         2  https://labeling-detected-objects-bucket.s3.am...\n3            4         4  https://labeling-detected-objects-bucket.s3.am...\n4            5         2  https://labeling-detected-objects-bucket.s3.am...\n...        ...       ...                                                ...\n250414  282507    152227                                                NaN\n250415  282508    152228                                                NaN\n250416  282509    152227                                                NaN\n250417  282510    152230                                                NaN\n250418  282511    152227                                                NaN\n\n[250419 rows x 3 columns]",
      "text/html": "<div>\n<style scoped>\n    .dataframe tbody tr th:only-of-type {\n        vertical-align: middle;\n    }\n\n    .dataframe tbody tr th {\n        vertical-align: top;\n    }\n\n    .dataframe thead th {\n        text-align: right;\n    }\n</style>\n<table border=\"1\" class=\"dataframe\">\n  <thead>\n    <tr style=\"text-align: right;\">\n      <th></th>\n      <th>id</th>\n      <th>image_id</th>\n      <th>s3_path</th>\n    </tr>\n  </thead>\n  <tbody>\n    <tr>\n      <th>0</th>\n      <td>1</td>\n      <td>4</td>\n      <td>https://labeling-detected-objects-bucket.s3.am...</td>\n    </tr>\n    <tr>\n      <th>1</th>\n      <td>2</td>\n      <td>3</td>\n      <td>https://labeling-detected-objects-bucket.s3.am...</td>\n    </tr>\n    <tr>\n      <th>2</th>\n      <td>3</td>\n      <td>2</td>\n      <td>https://labeling-detected-objects-bucket.s3.am...</td>\n    </tr>\n    <tr>\n      <th>3</th>\n      <td>4</td>\n      <td>4</td>\n      <td>https://labeling-detected-objects-bucket.s3.am...</td>\n    </tr>\n    <tr>\n      <th>4</th>\n      <td>5</td>\n      <td>2</td>\n      <td>https://labeling-detected-objects-bucket.s3.am...</td>\n    </tr>\n    <tr>\n      <th>...</th>\n      <td>...</td>\n      <td>...</td>\n      <td>...</td>\n    </tr>\n    <tr>\n      <th>250414</th>\n      <td>282507</td>\n      <td>152227</td>\n      <td>NaN</td>\n    </tr>\n    <tr>\n      <th>250415</th>\n      <td>282508</td>\n      <td>152228</td>\n      <td>NaN</td>\n    </tr>\n    <tr>\n      <th>250416</th>\n      <td>282509</td>\n      <td>152227</td>\n      <td>NaN</td>\n    </tr>\n    <tr>\n      <th>250417</th>\n      <td>282510</td>\n      <td>152230</td>\n      <td>NaN</td>\n    </tr>\n    <tr>\n      <th>250418</th>\n      <td>282511</td>\n      <td>152227</td>\n      <td>NaN</td>\n    </tr>\n  </tbody>\n</table>\n<p>250419 rows × 3 columns</p>\n</div>"
     },
     "execution_count": 30,
     "metadata": {},
     "output_type": "execute_result"
    }
   ],
   "source": [
    "# Read in the cvs file into a pandas dataframe \n",
    "with open('/home/jtyo/Repos/PersonalRepos/deep-person-reid/reid-data/performance/object_id_to_image_id.csv', 'r') as f:\n",
    "    df = pd.read_csv(f)\n",
    "df"
   ],
   "metadata": {
    "collapsed": false,
    "ExecuteTime": {
     "end_time": "2024-01-22T19:01:16.306046123Z",
     "start_time": "2024-01-22T19:01:16.067858056Z"
    }
   },
   "id": "ab1a209d39a9a9f0",
   "execution_count": 30
  },
  {
   "cell_type": "code",
   "outputs": [
    {
     "name": "stdout",
     "output_type": "stream",
     "text": [
      "Number of unique object_id's: 250419\n",
      "Number of unique image_id's: 124596\n"
     ]
    }
   ],
   "source": [
    "# now get the number of unique id's and image_id's\n",
    "print(f'Number of unique object_id\\'s: {len(df[\"id\"].unique())}')\n",
    "print(f'Number of unique image_id\\'s: {len(df[\"image_id\"].unique())}')"
   ],
   "metadata": {
    "collapsed": false,
    "ExecuteTime": {
     "end_time": "2024-01-22T19:01:46.798460545Z",
     "start_time": "2024-01-22T19:01:46.776378426Z"
    }
   },
   "id": "91788f5283e8f44f",
   "execution_count": 31
  },
  {
   "cell_type": "code",
   "outputs": [
    {
     "name": "stdout",
     "output_type": "stream",
     "text": [
      "Average number of id's per image_id: 2.0098478281806798\n",
      "Median number of id's per image_id: 1\n",
      "Max number of id's per image_id: 7\n",
      "Min number of id's per image_id: 1\n"
     ]
    }
   ],
   "source": [
    "# new get the average, mean, median, max, etc. of the number of id's per image_id\n",
    "# first group by image_id, then count the number of id's per image_id\n",
    "# then get the mean, median, max, min, etc. of the number of id's per image_id\n",
    "stats = {}\n",
    "for image_id, group in df.groupby('image_id'):\n",
    "    stats[image_id] = {\n",
    "        'num_ids': len(group['id'].unique()),\n",
    "    }\n",
    "\n",
    "# now print the statisitcs \n",
    "print(f'Average number of id\\'s per image_id: {sum([v[\"num_ids\"] for k, v in stats.items()]) / len(stats)}')\n",
    "print(f'Median number of id\\'s per image_id: {sorted([v[\"num_ids\"] for k, v in stats.items()])[len(stats) // 2]}')\n",
    "print(f'Max number of id\\'s per image_id: {max([v[\"num_ids\"] for k, v in stats.items()])}')\n",
    "print(f'Min number of id\\'s per image_id: {min([v[\"num_ids\"] for k, v in stats.items()])}')\n"
   ],
   "metadata": {
    "collapsed": false,
    "ExecuteTime": {
     "end_time": "2024-01-22T19:05:53.400243869Z",
     "start_time": "2024-01-22T19:05:47.111545147Z"
    }
   },
   "id": "d71d9718b1a9816a",
   "execution_count": 32
  },
  {
   "cell_type": "code",
   "outputs": [
    {
     "name": "stdout",
     "output_type": "stream",
     "text": [
      "number of images considered 3355\n",
      "Average number of id's per image_id: 1.1639344262295082\n",
      "Median number of id's per image_id: 1\n",
      "Max number of id's per image_id: 6\n",
      "Min number of id's per image_id: 1\n",
      "If we pull all images associated with the images we care about, we get 9087 ids\n",
      "Here are the statitics for all we care about\n",
      "Average number of id's per image_id: 2.70849478390462\n",
      "Median number of id's per image_id: 2\n",
      "Max number of id's per image_id: 7\n",
      "Min number of id's per image_id: 1\n",
      "so if we were to pull the images missing from stats, we would get an extra 5182 objects\n",
      "\n",
      "\n",
      "\n",
      "to verify, we have 5182 images to pull\n"
     ]
    }
   ],
   "source": [
    "# now do this again, but filter for only detected objects that also appear in mudd_processed_to_original\n",
    "\n",
    "stats = {}\n",
    "ids_we_care_about = set([int(x.split('.')[0].strip()) for x in mudd_processed_to_original.values()])\n",
    "all_images_we_could_care_about = {}\n",
    "for image_id, group in df.groupby('image_id'):\n",
    "    these_selected_ids = []\n",
    "    is_image_we_care_about = False\n",
    "    for g in group['id']:\n",
    "        if g in ids_we_care_about:\n",
    "            these_selected_ids.append(g)\n",
    "            is_image_we_care_about = True\n",
    "    if len(these_selected_ids) > 0: \n",
    "        stats[image_id] = {\n",
    "            'num_ids': len(these_selected_ids),\n",
    "            'ids': these_selected_ids\n",
    "        }\n",
    "    if is_image_we_care_about:\n",
    "        s3_urls_to_pull = []\n",
    "        for g in group['id']:\n",
    "            if g not in ids_we_care_about:\n",
    "                s3_urls_to_pull.append(f\"https://labeling-detected-objects-bucket.s3.amazonaws.com/{g}.png\")\n",
    "        all_images_we_could_care_about[image_id] = {\n",
    "            'num_ids': len(group['id'].unique()), \n",
    "            'ids': group['id'].unique(),\n",
    "            's3_urls': group['s3_path'].unique(),\n",
    "            's3_urls_need_pulled': s3_urls_to_pull\n",
    "        }\n",
    "\n",
    "print('number of images considered', len(stats))\n",
    "# now print the statisitcs \n",
    "print(f'Average number of id\\'s per image_id: {sum([v[\"num_ids\"] for k, v in stats.items()]) / len(stats)}')\n",
    "print(f'Median number of id\\'s per image_id: {sorted([v[\"num_ids\"] for k, v in stats.items()])[len(stats) // 2]}')\n",
    "print(f'Max number of id\\'s per image_id: {max([v[\"num_ids\"] for k, v in stats.items()])}')\n",
    "print(f'Min number of id\\'s per image_id: {min([v[\"num_ids\"] for k, v in stats.items()])}')\n",
    "\n",
    "total_ids_in_stats = sum([v[\"num_ids\"] for k, v in stats.items()])\n",
    "total_ids_in_all_we_care_about = sum([v[\"num_ids\"] for k, v in all_images_we_could_care_about.items()])\n",
    "\n",
    "print(f'If we pull all images associated with the images we care about, we get {total_ids_in_all_we_care_about} ids')\n",
    "print(\"Here are the statitics for all we care about\")\n",
    "print(f'Average number of id\\'s per image_id: {total_ids_in_all_we_care_about / len(all_images_we_could_care_about)}')\n",
    "print(f'Median number of id\\'s per image_id: {sorted([v[\"num_ids\"] for k, v in all_images_we_could_care_about.items()])[len(all_images_we_could_care_about) // 2]}')\n",
    "print(f'Max number of id\\'s per image_id: {max([v[\"num_ids\"] for k, v in all_images_we_could_care_about.items()])}')\n",
    "print(f'Min number of id\\'s per image_id: {min([v[\"num_ids\"] for k, v in all_images_we_could_care_about.items()])}')\n",
    "\n",
    "print(f'so if we were to pull the images missing from stats, we would get an extra {total_ids_in_all_we_care_about - total_ids_in_stats} objects')\n",
    "\n",
    "print('\\n\\n')\n",
    "print(f'to verify, we have {sum([len(v[\"s3_urls_need_pulled\"]) for k, v in all_images_we_could_care_about.items()])} images to pull')\n",
    "pull_me = []\n",
    "for k, v in all_images_we_could_care_about.items():\n",
    "    for s3_url in v['s3_urls_need_pulled']:\n",
    "        pull_me.append(s3_url)"
   ],
   "metadata": {
    "collapsed": false,
    "ExecuteTime": {
     "end_time": "2024-01-22T19:40:08.558226463Z",
     "start_time": "2024-01-22T19:40:04.420385627Z"
    }
   },
   "id": "50e8d8b0a5667e7c",
   "execution_count": 54
  },
  {
   "cell_type": "code",
   "outputs": [
    {
     "data": {
      "text/plain": "  0%|          | 0/5182 [00:00<?, ?it/s]",
      "application/vnd.jupyter.widget-view+json": {
       "version_major": 2,
       "version_minor": 0,
       "model_id": "1e60b31a9bac48cda18c0378d8323c32"
      }
     },
     "metadata": {},
     "output_type": "display_data"
    }
   ],
   "source": [
    "s3 = boto3.client(\"s3\")\n",
    "original_imgs_dir = '/home/jtyo/Repos/PersonalRepos/deep-person-reid/reid-data/performance/mil_images'\n",
    "errors = 0\n",
    "for s3_url in tqdm(pull_me):\n",
    "    try:\n",
    "        key = s3_url.split('/')[-1]\n",
    "        if os.path.exists(os.path.join(original_imgs_dir, key)):\n",
    "            continue\n",
    "        response = s3.get_object(Bucket='labeling-detected-objects-bucket', Key=key)['Body']\n",
    "        with open(os.path.join(original_imgs_dir, key), 'wb') as out_file:\n",
    "                shutil.copyfileobj(response, out_file)\n",
    "    except Exception as e:\n",
    "        errors += 1\n"
   ],
   "metadata": {
    "collapsed": false,
    "ExecuteTime": {
     "end_time": "2024-01-22T19:52:19.568231099Z",
     "start_time": "2024-01-22T19:41:39.163425973Z"
    }
   },
   "id": "d23acc6d69830f27",
   "execution_count": 56
  },
  {
   "cell_type": "code",
   "outputs": [],
   "source": [],
   "metadata": {
    "collapsed": false,
    "ExecuteTime": {
     "end_time": "2024-01-22T19:52:19.572065913Z",
     "start_time": "2024-01-22T19:52:19.570165132Z"
    }
   },
   "id": "1680793fa257d921",
   "execution_count": 56
  },
  {
   "cell_type": "code",
   "outputs": [],
   "source": [],
   "metadata": {
    "collapsed": false
   },
   "id": "5da4437ed97331a0"
  }
 ],
 "metadata": {
  "kernelspec": {
   "display_name": "Python 3",
   "language": "python",
   "name": "python3"
  },
  "language_info": {
   "codemirror_mode": {
    "name": "ipython",
    "version": 2
   },
   "file_extension": ".py",
   "mimetype": "text/x-python",
   "name": "python",
   "nbconvert_exporter": "python",
   "pygments_lexer": "ipython2",
   "version": "2.7.6"
  }
 },
 "nbformat": 4,
 "nbformat_minor": 5
}
