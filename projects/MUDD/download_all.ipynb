{
 "cells": [
  {
   "cell_type": "code",
   "execution_count": null,
   "id": "initial_id",
   "metadata": {
    "collapsed": true,
    "is_executing": true
   },
   "outputs": [],
   "source": [
    "# need to get all  images on perf out of s3, save them, then develop a mapping between the image name and the perf data\n",
    "import boto3\n",
    "import os\n",
    "import pandas as pd\n",
    "import shutil \n",
    "from tqdm.notebook import tqdm\n",
    "import hashlib"
   ]
  },
  {
   "cell_type": "code",
   "outputs": [],
   "source": [
    "# load in the object_id_to_image_id.csv file\n",
    "full_mapping = pd.read_csv('/home/jtyo/Repos/PersonalRepos/deep-person-reid/reid-data/performance/object_id_to_image_id.csv')\n",
    "# now for each image id, get the image from s3"
   ],
   "metadata": {
    "collapsed": false,
    "ExecuteTime": {
     "end_time": "2024-01-19T21:09:42.554292554Z",
     "start_time": "2024-01-19T21:09:42.259038086Z"
    }
   },
   "id": "c9d69d15880b666a",
   "execution_count": 4
  },
  {
   "cell_type": "code",
   "outputs": [
    {
     "data": {
      "text/plain": "            id  image_id                                            s3_path\n0            1         4  https://labeling-detected-objects-bucket.s3.am...\n1            2         3  https://labeling-detected-objects-bucket.s3.am...\n2            3         2  https://labeling-detected-objects-bucket.s3.am...\n3            4         4  https://labeling-detected-objects-bucket.s3.am...\n4            5         2  https://labeling-detected-objects-bucket.s3.am...\n...        ...       ...                                                ...\n250414  282507    152227                                                NaN\n250415  282508    152228                                                NaN\n250416  282509    152227                                                NaN\n250417  282510    152230                                                NaN\n250418  282511    152227                                                NaN\n\n[250419 rows x 3 columns]",
      "text/html": "<div>\n<style scoped>\n    .dataframe tbody tr th:only-of-type {\n        vertical-align: middle;\n    }\n\n    .dataframe tbody tr th {\n        vertical-align: top;\n    }\n\n    .dataframe thead th {\n        text-align: right;\n    }\n</style>\n<table border=\"1\" class=\"dataframe\">\n  <thead>\n    <tr style=\"text-align: right;\">\n      <th></th>\n      <th>id</th>\n      <th>image_id</th>\n      <th>s3_path</th>\n    </tr>\n  </thead>\n  <tbody>\n    <tr>\n      <th>0</th>\n      <td>1</td>\n      <td>4</td>\n      <td>https://labeling-detected-objects-bucket.s3.am...</td>\n    </tr>\n    <tr>\n      <th>1</th>\n      <td>2</td>\n      <td>3</td>\n      <td>https://labeling-detected-objects-bucket.s3.am...</td>\n    </tr>\n    <tr>\n      <th>2</th>\n      <td>3</td>\n      <td>2</td>\n      <td>https://labeling-detected-objects-bucket.s3.am...</td>\n    </tr>\n    <tr>\n      <th>3</th>\n      <td>4</td>\n      <td>4</td>\n      <td>https://labeling-detected-objects-bucket.s3.am...</td>\n    </tr>\n    <tr>\n      <th>4</th>\n      <td>5</td>\n      <td>2</td>\n      <td>https://labeling-detected-objects-bucket.s3.am...</td>\n    </tr>\n    <tr>\n      <th>...</th>\n      <td>...</td>\n      <td>...</td>\n      <td>...</td>\n    </tr>\n    <tr>\n      <th>250414</th>\n      <td>282507</td>\n      <td>152227</td>\n      <td>NaN</td>\n    </tr>\n    <tr>\n      <th>250415</th>\n      <td>282508</td>\n      <td>152228</td>\n      <td>NaN</td>\n    </tr>\n    <tr>\n      <th>250416</th>\n      <td>282509</td>\n      <td>152227</td>\n      <td>NaN</td>\n    </tr>\n    <tr>\n      <th>250417</th>\n      <td>282510</td>\n      <td>152230</td>\n      <td>NaN</td>\n    </tr>\n    <tr>\n      <th>250418</th>\n      <td>282511</td>\n      <td>152227</td>\n      <td>NaN</td>\n    </tr>\n  </tbody>\n</table>\n<p>250419 rows × 3 columns</p>\n</div>"
     },
     "execution_count": 5,
     "metadata": {},
     "output_type": "execute_result"
    }
   ],
   "source": [
    "full_mapping"
   ],
   "metadata": {
    "collapsed": false,
    "ExecuteTime": {
     "end_time": "2024-01-19T21:09:43.456380431Z",
     "start_time": "2024-01-19T21:09:43.387014117Z"
    }
   },
   "id": "3e8f7330ef8ab11c",
   "execution_count": 5
  },
  {
   "cell_type": "code",
   "outputs": [
    {
     "data": {
      "text/plain": "  0%|          | 0/250419 [00:00<?, ?it/s]",
      "application/vnd.jupyter.widget-view+json": {
       "version_major": 2,
       "version_minor": 0,
       "model_id": "f9afbb5353a24601885e13a81cf0c48c"
      }
     },
     "metadata": {},
     "output_type": "display_data"
    }
   ],
   "source": [
    "s3 = boto3.client(\"s3\")\n",
    "original_imgs_dir = '/home/jtyo/tmp/mudd_originals'\n",
    "\n",
    "for s3_url in tqdm(full_mapping['s3_path']):\n",
    "    key = s3_url.split('/')[-1]\n",
    "    response = s3.get_object(Bucket='labeling-detected-objects-bucket', Key=key)['Body']\n",
    "    with open(os.path.join(original_imgs_dir, key), 'wb') as out_file:\n",
    "            shutil.copyfileobj(response, out_file)    "
   ],
   "metadata": {
    "collapsed": false,
    "is_executing": true,
    "ExecuteTime": {
     "start_time": "2024-01-19T21:20:10.101063298Z"
    }
   },
   "id": "ac95540da9bc7ecc",
   "execution_count": null
  },
  {
   "cell_type": "code",
   "outputs": [],
   "source": [],
   "metadata": {
    "collapsed": false,
    "is_executing": true
   },
   "id": "dc1b3c951388e601"
  },
  {
   "cell_type": "code",
   "outputs": [],
   "source": [
    "mudd_processed_base_path = '/home/jtyo/Repos/PersonalRepos/deep-person-reid/reid-data/performance'\n",
    "final_folders = [\n",
    "    'bounding_box_test', \n",
    "    'bounding_box_train',\n",
    "    'gallery_all',\n",
    "    'gallery_mud',\n",
    "    'gallery_no_mud',\n",
    "    'query',\n",
    "    'query_all',\n",
    "    'query_mud',\n",
    "    'query_no_mud'\n",
    "]"
   ],
   "metadata": {
    "collapsed": false,
    "is_executing": true
   },
   "id": "bbf899d504967f2f"
  },
  {
   "cell_type": "code",
   "outputs": [],
   "source": [
    "def get_image_checksum(img_path):\n",
    "    with open(img_path, 'rb') as f:\n",
    "        return hashlib.md5(f.read()).hexdigest()"
   ],
   "metadata": {
    "collapsed": false,
    "is_executing": true
   },
   "id": "7c805c6267879878"
  },
  {
   "cell_type": "code",
   "outputs": [],
   "source": [
    "# Now to make things more efficient and quick, lets get a checksum of all images, store in a dict, and then we can easily check if a mudd image exists in the original set\n",
    "# for every image in original_imgs_dir, compute the checksum and save in memory\n",
    "original_imgs_checksums = {}\n",
    "for img in tqdm(os.listdir(original_imgs_dir)):\n",
    "    original_imgs_checksums[get_image_checksum(os.path.join(original_imgs_dir, img))] = img"
   ],
   "metadata": {
    "collapsed": false,
    "is_executing": true
   },
   "id": "b21d333d02ce3df4"
  },
  {
   "cell_type": "code",
   "outputs": [],
   "source": [
    "# now for each image in the mudd_processed_base_path, check if it exists in the original_imgs_checksums\n",
    "# then we will save a json file that maps the mudd_processed image name to the original image name\n",
    "mudd_processed_to_original = {}\n",
    "missed_images = {}\n",
    "for folder in tqdm(final_folders):\n",
    "    for img in os.listdir(os.path.join(mudd_processed_base_path, folder)):\n",
    "        img_checksums = get_image_checksum(os.path.join(mudd_processed_base_path, folder, img))\n",
    "        if img_checksums in original_imgs_checksums:\n",
    "            mudd_processed_to_original[os.path.join(folder, img)] = original_imgs_checksums[img_checksums]\n",
    "        else:\n",
    "            print(f'Could not find {img} in original images')\n",
    "            missed_images[img] = img_checksums\n",
    "\n",
    "print(f'Found {len(mudd_processed_to_original)} images in the original set')\n",
    "print(f'Missed {len(missed_images)} images in the original set')"
   ],
   "metadata": {
    "collapsed": false,
    "is_executing": true
   },
   "id": "aebba08bdf0640ed"
  },
  {
   "cell_type": "code",
   "outputs": [],
   "source": [],
   "metadata": {
    "collapsed": false
   },
   "id": "2067a49ff4075524"
  }
 ],
 "metadata": {
  "kernelspec": {
   "display_name": "Python 3",
   "language": "python",
   "name": "python3"
  },
  "language_info": {
   "codemirror_mode": {
    "name": "ipython",
    "version": 2
   },
   "file_extension": ".py",
   "mimetype": "text/x-python",
   "name": "python",
   "nbconvert_exporter": "python",
   "pygments_lexer": "ipython2",
   "version": "2.7.6"
  }
 },
 "nbformat": 4,
 "nbformat_minor": 5
}
